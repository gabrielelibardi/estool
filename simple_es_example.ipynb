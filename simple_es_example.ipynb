{
 "cells": [
  {
   "cell_type": "markdown",
   "metadata": {},
   "source": [
    "Simple example of using evolution strategies inside `es.py` for toy deterministic fitness function."
   ]
  },
  {
   "cell_type": "code",
   "execution_count": 1,
   "metadata": {},
   "outputs": [],
   "source": [
    "import numpy as np\n",
    "import matplotlib.pyplot as plt\n",
    "import cma\n",
    "from es import SimpleGA, CMAES, PEPG, OpenES"
   ]
  },
  {
   "cell_type": "code",
   "execution_count": 2,
   "metadata": {},
   "outputs": [],
   "source": [
    "# from https://github.com/CMA-ES/pycma/blob/master/cma/fitness_functions.py\n",
    "def rastrigin(x):\n",
    "  \"\"\"Rastrigin test objective function, shifted by 10. units away from origin\"\"\"\n",
    "  x = np.copy(x)\n",
    "  x -= 10.0\n",
    "  if not np.isscalar(x[0]):\n",
    "    N = len(x[0])\n",
    "    return -np.array([10 * N + sum(xi**2 - 10 * np.cos(2 * np.pi * xi)) for xi in x])\n",
    "  N = len(x)\n",
    "  return -(10 * N + sum(x**2 - 10 * np.cos(2 * np.pi * x)))\n",
    "\n",
    "fit_func = rastrigin"
   ]
  },
  {
   "cell_type": "code",
   "execution_count": 3,
   "metadata": {},
   "outputs": [],
   "source": [
    "NPARAMS = 100        # make this a 100-dimensinal problem.\n",
    "NPOPULATION = 101    # use population size of 101.\n",
    "MAX_ITERATION = 4000 # run each solver for 5000 generations."
   ]
  },
  {
   "cell_type": "code",
   "execution_count": 4,
   "metadata": {},
   "outputs": [],
   "source": [
    "# defines a function to use solver to solve fit_func\n",
    "def test_solver(solver):\n",
    "  history = []\n",
    "  for j in range(MAX_ITERATION):\n",
    "    solutions = solver.ask()\n",
    "    fitness_list = np.zeros(solver.popsize)\n",
    "    for i in range(solver.popsize):\n",
    "      fitness_list[i] = fit_func(solutions[i])\n",
    "    solver.tell(fitness_list)\n",
    "    result = solver.result() # first element is the best solution, second element is the best fitness\n",
    "    history.append(result[1])\n",
    "    if (j+1) % 100 == 0:\n",
    "      print(\"fitness at iteration\", (j+1), result[1])\n",
    "  print(\"local optimum discovered by solver:\\n\", result[0])\n",
    "  print(\"fitness score at this local optimum:\", result[1])\n",
    "  return history"
   ]
  },
  {
   "cell_type": "code",
   "execution_count": 5,
   "metadata": {},
   "outputs": [
    {
     "name": "stdout",
     "output_type": "stream",
     "text": [
      "This is F(0):\n",
      "-10000.0\n"
     ]
    }
   ],
   "source": [
    "x = np.zeros(NPARAMS) # 100-dimensional problem\n",
    "print(\"This is F(0):\")\n",
    "print(rastrigin(x))"
   ]
  },
  {
   "cell_type": "code",
   "execution_count": 6,
   "metadata": {},
   "outputs": [
    {
     "name": "stdout",
     "output_type": "stream",
     "text": [
      "-0.0\n",
      "global optimum point:\n",
      " [10. 10. 10. 10. 10. 10. 10. 10. 10. 10. 10. 10. 10. 10. 10. 10. 10. 10.\n",
      " 10. 10. 10. 10. 10. 10. 10. 10. 10. 10. 10. 10. 10. 10. 10. 10. 10. 10.\n",
      " 10. 10. 10. 10. 10. 10. 10. 10. 10. 10. 10. 10. 10. 10. 10. 10. 10. 10.\n",
      " 10. 10. 10. 10. 10. 10. 10. 10. 10. 10. 10. 10. 10. 10. 10. 10. 10. 10.\n",
      " 10. 10. 10. 10. 10. 10. 10. 10. 10. 10. 10. 10. 10. 10. 10. 10. 10. 10.\n",
      " 10. 10. 10. 10. 10. 10. 10. 10. 10. 10.]\n"
     ]
    }
   ],
   "source": [
    "x = np.ones(NPARAMS)*10. # 100-dimensional problem\n",
    "print(rastrigin(x))\n",
    "print(\"global optimum point:\\n\", x)"
   ]
  },
  {
   "cell_type": "code",
   "execution_count": 7,
   "metadata": {},
   "outputs": [],
   "source": [
    "# defines genetic algorithm solver\n",
    "ga = SimpleGA(NPARAMS,                # number of model parameters\n",
    "               sigma_init=0.5,        # initial standard deviation\n",
    "               popsize=NPOPULATION,   # population size\n",
    "               elite_ratio=0.1,       # percentage of the elites\n",
    "               forget_best=False,     # forget the historical best elites\n",
    "               weight_decay=0.00,     # weight decay coefficient\n",
    "              )"
   ]
  },
  {
   "cell_type": "code",
   "execution_count": 8,
   "metadata": {},
   "outputs": [
    {
     "name": "stdout",
     "output_type": "stream",
     "text": [
      "fitness at iteration 100 -1243.7919648275058\n",
      "fitness at iteration 200 -1087.621210559343\n",
      "fitness at iteration 300 -1012.8393302510586\n",
      "fitness at iteration 400 -995.2645814033796\n",
      "fitness at iteration 500 -939.384221367675\n",
      "fitness at iteration 600 -885.3358438638262\n",
      "fitness at iteration 700 -881.706286936519\n",
      "fitness at iteration 800 -808.9100271474008\n",
      "fitness at iteration 900 -794.7110716310312\n",
      "fitness at iteration 1000 -718.7429480026713\n",
      "fitness at iteration 1100 -711.6877142741688\n",
      "fitness at iteration 1200 -633.552565953665\n",
      "fitness at iteration 1300 -611.8140401187281\n",
      "fitness at iteration 1400 -588.1378065946517\n",
      "fitness at iteration 1500 -525.4296341479092\n",
      "fitness at iteration 1600 -480.35514269322994\n",
      "fitness at iteration 1700 -433.53225357781605\n",
      "fitness at iteration 1800 -383.0935849263367\n",
      "fitness at iteration 1900 -357.2053004898378\n",
      "fitness at iteration 2000 -328.5782008878173\n",
      "fitness at iteration 2100 -294.80681172917946\n",
      "fitness at iteration 2200 -279.06080155743757\n",
      "fitness at iteration 2300 -265.00884964171235\n",
      "fitness at iteration 2400 -245.7911870822379\n",
      "fitness at iteration 2500 -235.61813699128288\n",
      "fitness at iteration 2600 -218.51510687587302\n",
      "fitness at iteration 2700 -212.28890634214667\n",
      "fitness at iteration 2800 -199.4556521336359\n",
      "fitness at iteration 2900 -192.9282681908653\n",
      "fitness at iteration 3000 -192.11727334744467\n",
      "fitness at iteration 3100 -187.13390452656495\n",
      "fitness at iteration 3200 -183.85112279510008\n",
      "fitness at iteration 3300 -180.73537751789695\n",
      "fitness at iteration 3400 -178.11489219194482\n",
      "fitness at iteration 3500 -177.07912672714906\n",
      "fitness at iteration 3600 -173.8851077752289\n",
      "fitness at iteration 3700 -172.9286702222514\n",
      "fitness at iteration 3800 -172.05747161833074\n",
      "fitness at iteration 3900 -171.06272447070864\n",
      "fitness at iteration 4000 -170.90592308368366\n",
      "local optimum discovered by solver:\n",
      " [10.99051132 10.00787779  8.99967324  9.01564061 10.01247611  9.9885442\n",
      "  9.00523132  7.01854724  9.00887374 11.99049608 11.009477    8.99250667\n",
      "  9.00964123  8.01745165 11.02118091  8.00524839  9.01068052 10.01450203\n",
      " 11.01340391 10.0134597   8.97975806  6.99536476 10.00188119 10.03505468\n",
      "  8.99957528  9.99989502  9.99378443  9.00577246  9.00298626  9.97648223\n",
      "  9.00848668  8.99660962  9.00013952 10.00895024  8.02575618 10.99856493\n",
      "  9.99689564  8.01643812  9.98071564  8.99674606  8.00818722  8.0268178\n",
      " 10.007957    8.01813112 11.99959985 10.01125046  9.98193504  9.98112369\n",
      " 11.98890394  9.03335153 10.00017867  9.98796663  8.00766198  8.99578289\n",
      "  9.96246179 11.00666459  9.98802802 10.99856116  8.98990774  8.98316214\n",
      "  9.00131997  8.97684799  8.99725952  8.01163661  8.00286172  9.98548475\n",
      "  9.9907866   9.98553029  9.99892474  9.01435517  9.97805711  8.97463706\n",
      " 11.00406388 10.99198818 10.02242836  7.00233135 10.0233776  10.98887998\n",
      " 12.00481732  9.98702455  9.02165009 10.00772316  9.00993034 12.97212286\n",
      "  8.02101155 10.00074835  8.99139879 10.99573516  8.01876378 11.00404651\n",
      " 11.00247388 10.01690669  8.00458273 11.01544791 11.98126579 11.0210274\n",
      "  8.02358388  7.03283284 11.00463627  7.9984479 ]\n",
      "fitness score at this local optimum: -170.90592308368366\n"
     ]
    }
   ],
   "source": [
    "ga_history = test_solver(ga)"
   ]
  },
  {
   "cell_type": "code",
   "execution_count": 9,
   "metadata": {},
   "outputs": [
    {
     "name": "stdout",
     "output_type": "stream",
     "text": [
      "(50_w,101)-aCMA-ES (mu_w=27.2,w_1=8%) in dimension 100 (seed=177439, Wed Jul 29 14:33:49 2020)\n"
     ]
    }
   ],
   "source": [
    "# defines CMA-ES algorithm solver\n",
    "cmaes = CMAES(NPARAMS,\n",
    "              popsize=NPOPULATION,\n",
    "              weight_decay=0.0,\n",
    "              sigma_init = 0.5\n",
    "          )"
   ]
  },
  {
   "cell_type": "code",
   "execution_count": 10,
   "metadata": {},
   "outputs": [
    {
     "name": "stdout",
     "output_type": "stream",
     "text": [
      "fitness at iteration 100 -977.9465951189828\n",
      "fitness at iteration 200 -845.5211970662106\n",
      "fitness at iteration 300 -845.5211970662106\n",
      "fitness at iteration 400 -81.5092382907726\n",
      "fitness at iteration 500 -46.785343787182114\n",
      "fitness at iteration 600 -46.76308998029731\n",
      "fitness at iteration 700 -46.76307066134575\n",
      "fitness at iteration 800 -46.76307064557727\n",
      "fitness at iteration 900 -46.76307064556579\n",
      "fitness at iteration 1000 -46.76307064556579\n",
      "fitness at iteration 1100 -46.76307064556579\n",
      "fitness at iteration 1200 -46.76307064556579\n",
      "fitness at iteration 1300 -46.76307064556579\n",
      "fitness at iteration 1400 -46.76307064556579\n",
      "fitness at iteration 1500 -46.76307064556579\n",
      "fitness at iteration 1600 -46.76307064556579\n",
      "fitness at iteration 1700 -46.76307064556579\n",
      "fitness at iteration 1800 -46.76307064556579\n",
      "fitness at iteration 1900 -46.76307064556579\n",
      "fitness at iteration 2000 -46.76307064556579\n",
      "fitness at iteration 2100 -46.76307064556579\n",
      "fitness at iteration 2200 -46.76307064556579\n",
      "fitness at iteration 2300 -46.76307064556579\n",
      "fitness at iteration 2400 -46.76307064556579\n",
      "fitness at iteration 2500 -46.76307064556579\n",
      "fitness at iteration 2600 -46.76307064556579\n",
      "fitness at iteration 2700 -46.76307064556579\n",
      "fitness at iteration 2800 -46.76307064556579\n",
      "fitness at iteration 2900 -46.76307064556579\n",
      "fitness at iteration 3000 -46.76307064556579\n",
      "fitness at iteration 3100 -46.76307064556579\n",
      "fitness at iteration 3200 -46.76307064556579\n",
      "fitness at iteration 3300 -46.76307064556579\n",
      "fitness at iteration 3400 -46.76307064556579\n",
      "fitness at iteration 3500 -46.76307064556579\n",
      "fitness at iteration 3600 -46.76307064556579\n",
      "fitness at iteration 3700 -46.76307064556579\n",
      "fitness at iteration 3800 -46.76307064556579\n",
      "fitness at iteration 3900 -46.76307064556579\n",
      "fitness at iteration 4000 -46.76307064556579\n",
      "local optimum discovered by solver:\n",
      " [10.99495864 10.         10.         10.99495864  9.00504136 10.99495863\n",
      " 10.          9.00504137 10.         10.          9.00504136 10.99495864\n",
      "  9.00504137 10.          9.00504136  9.99999999  9.00504136 10.\n",
      "  9.99999999 10.99495864 10.99495863 10.         10.99495864 10.\n",
      "  9.99999999 10.         10.99495863 10.00000001 10.         10.\n",
      " 10.         10.         10.          9.00504136 10.99495865 10.\n",
      " 10.00000001 10.99495863 10.99495863  9.00504136  9.99999999 10.\n",
      "  9.99999999 10.         10.          9.99999999  9.00504136 10.\n",
      " 10.99495864 10.99495864 10.         10.99495864 10.         10.\n",
      " 10.          9.99999999  9.00504136 10.         10.99495863  9.00504137\n",
      "  9.99999999  9.00504136 10.         10.99495864 10.         10.\n",
      " 10.00000001  9.00504136  9.99999999 10.99495863  9.00504137 10.\n",
      " 10.         10.         10.00000001 10.         11.98991224 10.\n",
      " 10.99495863 10.99495864 10.         10.          9.00504137  9.99999999\n",
      "  9.00504137 10.         10.          9.00504137  9.00504136  9.00504137\n",
      " 10.         10.99495863  9.00504136 10.00000001 10.00000001 10.\n",
      "  9.00504137  9.00504136 10.         10.99495864]\n",
      "fitness score at this local optimum: -46.76307064556579\n"
     ]
    }
   ],
   "source": [
    "cma_history = test_solver(cmaes)"
   ]
  },
  {
   "cell_type": "code",
   "execution_count": 18,
   "metadata": {},
   "outputs": [],
   "source": [
    "# defines PEPG (NES) solver\n",
    "pepg = PEPG(NPARAMS,                         # number of model parameters\n",
    "            sigma_init=0.5,                  # initial standard deviation\n",
    "            learning_rate=0.1,               # learning rate for standard deviation\n",
    "            learning_rate_decay=1.0,       # don't anneal the learning rate\n",
    "            popsize=NPOPULATION,             # population size\n",
    "            average_baseline=False,          # set baseline to average of batch\n",
    "            weight_decay=0.00,            # weight decay coefficient\n",
    "            rank_fitness=False,           # use rank rather than fitness numbers\n",
    "            forget_best=False)            # don't keep the historical best solution)"
   ]
  },
  {
   "cell_type": "code",
   "execution_count": 19,
   "metadata": {},
   "outputs": [
    {
     "name": "stdout",
     "output_type": "stream",
     "text": [
      "fitness at iteration 100 -3719.1865414691392\n",
      "fitness at iteration 200 -1316.2958744499183\n",
      "fitness at iteration 300 -956.3668814812577\n",
      "fitness at iteration 400 -847.2011652932144\n",
      "fitness at iteration 500 -595.2971507765411\n",
      "fitness at iteration 600 -477.00724339135013\n",
      "fitness at iteration 700 -317.1400491816288\n",
      "fitness at iteration 800 -266.3120364780318\n",
      "fitness at iteration 900 -214.13546038874904\n",
      "fitness at iteration 1000 -204.28085546700743\n",
      "fitness at iteration 1100 -201.69642070825864\n",
      "fitness at iteration 1200 -169.5098172028479\n",
      "fitness at iteration 1300 -161.0622245021616\n",
      "fitness at iteration 1400 -152.16861193182\n",
      "fitness at iteration 1500 -148.71276214218744\n",
      "fitness at iteration 1600 -146.2232028152847\n",
      "fitness at iteration 1700 -144.1442610828002\n",
      "fitness at iteration 1800 -143.5684590440053\n",
      "fitness at iteration 1900 -142.61503349853137\n",
      "fitness at iteration 2000 -142.29973044577605\n",
      "fitness at iteration 2100 -141.70030982640856\n",
      "fitness at iteration 2200 -141.58084560556085\n",
      "fitness at iteration 2300 -141.23770051946804\n",
      "fitness at iteration 2400 -141.03865136933916\n",
      "fitness at iteration 2500 -141.03865136933916\n",
      "fitness at iteration 2600 -140.83644734194968\n",
      "fitness at iteration 2700 -140.83644734194968\n",
      "fitness at iteration 2800 -140.65053219646825\n",
      "fitness at iteration 2900 -140.65053219646825\n",
      "fitness at iteration 3000 -140.65053219646825\n",
      "fitness at iteration 3100 -140.65053219646825\n",
      "fitness at iteration 3200 -140.6081183432882\n",
      "fitness at iteration 3300 -140.52079345776076\n",
      "fitness at iteration 3400 -140.48412517016482\n",
      "fitness at iteration 3500 -140.48412517016482\n",
      "fitness at iteration 3600 -140.48412517016482\n",
      "fitness at iteration 3700 -140.48147935414534\n",
      "fitness at iteration 3800 -140.48147935414534\n",
      "fitness at iteration 3900 -140.48147935414534\n",
      "fitness at iteration 4000 -140.462758133801\n",
      "local optimum discovered by solver:\n",
      " [11.00207185 10.00717358 10.00307836  9.0009681  10.99138296  9.99780956\n",
      " 11.98361408 11.00576454 11.00562644  9.99938365  8.9989949  11.99831003\n",
      "  7.01695685 11.00236627 10.99112605 11.00247548 11.98862965 10.01879195\n",
      "  9.98983576 10.00017631 10.98041917 11.00161822 10.99310433 10.98095892\n",
      " 11.9850621  11.99239458  9.99211023 11.97029294  9.99428487 10.01488437\n",
      "  9.01069739 11.98964216 11.0025387  10.99334409 11.98681016 10.00243264\n",
      " 10.00271402  7.01662693  8.98482702  9.99806807  9.99492521  9.00089207\n",
      " 10.00588239  9.0174057   9.00376447 10.99289445 10.01061257 11.00551036\n",
      " 10.99638515 10.00239553 11.98243376 10.99992707 11.04829958 10.97753996\n",
      " 10.0037896  11.98300985  8.01635791  9.99698033 10.9736237   8.99868174\n",
      " 11.99494124  9.98841428  9.98998494 10.99353615 10.00935152 10.00379586\n",
      " 10.96316069  9.99696781  9.99183905 11.00510735  9.98158006 10.98920143\n",
      "  9.98522836 10.99130466 10.9914373  10.99484372 12.00208305 10.98763198\n",
      " 10.01722077 11.99245994 10.98952496 10.98647855 11.98131225 10.99395988\n",
      " 11.98286258  9.99502707  9.00553311  9.9969579  10.99235159  8.00766827\n",
      "  7.99048823 10.00064624 11.00507867  9.99831652 10.99356015  8.99686136\n",
      "  9.98558885 10.00504055 11.99250127  8.99710886]\n",
      "fitness score at this local optimum: -140.462758133801\n"
     ]
    }
   ],
   "source": [
    "pepg_history = test_solver(pepg)"
   ]
  },
  {
   "cell_type": "code",
   "execution_count": 14,
   "metadata": {},
   "outputs": [],
   "source": [
    "# defines OpenAI's ES algorithm solver. Note that we needed to anneal the sigma parameter\n",
    "oes = OpenES(NPARAMS,                  # number of model parameters\n",
    "            sigma_init=0.5,            # initial standard deviation\n",
    "            sigma_decay=0.999,         # don't anneal standard deviation\n",
    "            learning_rate=0.1,         # learning rate for standard deviation\n",
    "            learning_rate_decay = 1.0, # annealing the learning rate\n",
    "            popsize=NPOPULATION,       # population size\n",
    "            antithetic=False,          # whether to use antithetic sampling\n",
    "            weight_decay=0.00,         # weight decay coefficient\n",
    "            rank_fitness=False,        # use rank rather than fitness numbers\n",
    "            forget_best=False)"
   ]
  },
  {
   "cell_type": "code",
   "execution_count": 15,
   "metadata": {},
   "outputs": [
    {
     "name": "stdout",
     "output_type": "stream",
     "text": [
      "fitness at iteration 100 -2567.795931727651\n",
      "fitness at iteration 200 -807.3235864492082\n",
      "fitness at iteration 300 -807.3235864492082\n",
      "fitness at iteration 400 -807.3235864492082\n",
      "fitness at iteration 500 -807.3235864492082\n",
      "fitness at iteration 600 -777.9210382578419\n",
      "fitness at iteration 700 -733.1612170024359\n",
      "fitness at iteration 800 -622.9398753965481\n",
      "fitness at iteration 900 -605.780704322427\n",
      "fitness at iteration 1000 -529.6307431075263\n",
      "fitness at iteration 1100 -500.6194670561729\n",
      "fitness at iteration 1200 -468.5335325711476\n",
      "fitness at iteration 1300 -396.1126050872873\n",
      "fitness at iteration 1400 -368.36130666743554\n",
      "fitness at iteration 1500 -315.68685349508144\n",
      "fitness at iteration 1600 -305.74822235015654\n",
      "fitness at iteration 1700 -283.81729790869065\n",
      "fitness at iteration 1800 -265.20950308954264\n",
      "fitness at iteration 1900 -254.428258924327\n",
      "fitness at iteration 2000 -238.0995660230485\n",
      "fitness at iteration 2100 -224.0384597939326\n",
      "fitness at iteration 2200 -210.4556378887196\n",
      "fitness at iteration 2300 -196.86360529307092\n",
      "fitness at iteration 2400 -195.51452330635811\n",
      "fitness at iteration 2500 -187.86187739781906\n",
      "fitness at iteration 2600 -187.86187739781906\n",
      "fitness at iteration 2700 -187.86187739781906\n",
      "fitness at iteration 2800 -180.98576773996342\n",
      "fitness at iteration 2900 -180.98576773996342\n",
      "fitness at iteration 3000 -166.38369676806178\n",
      "fitness at iteration 3100 -166.38369676806178\n",
      "fitness at iteration 3200 -166.38369676806178\n",
      "fitness at iteration 3300 -166.38369676806178\n",
      "fitness at iteration 3400 -160.12523271294333\n",
      "fitness at iteration 3500 -155.3430795571653\n",
      "fitness at iteration 3600 -154.14413597218766\n",
      "fitness at iteration 3700 -154.14413597218766\n",
      "fitness at iteration 3800 -154.14413597218766\n",
      "fitness at iteration 3900 -154.14413597218766\n",
      "fitness at iteration 4000 -154.14413597218766\n",
      "local optimum discovered by solver:\n",
      " [ 9.92301228 10.96344614  9.9698645  10.90553035  9.97577517 10.01932825\n",
      " 10.98449884 10.92723949  9.99062192 11.96316357 10.94508649 10.94752008\n",
      " 10.02346666  9.99834601 10.01012068 10.03632137  9.99815867 12.00798379\n",
      " 11.0031743  10.93487459 10.97846372 10.99287798 10.99491951 11.00601751\n",
      " 10.03282425 11.00150523 10.96393593  9.03068493  9.98681411  8.92734499\n",
      " 10.91398414  9.99600252 11.01734528 12.01303983  9.96238878 11.0683676\n",
      " 12.0699366  11.96958503  9.02021544 10.94835504 12.04695384 10.95074812\n",
      " 10.03514916 10.98160913 10.00656224 10.04826375 10.96059531 11.94143487\n",
      " 10.98968917 10.03703922  8.01103098 11.00694489 10.94353712 11.93984811\n",
      " 11.02204883  9.96644456 10.92943812 11.0339969   9.02614417 11.96691282\n",
      " 10.01723034  9.94094841 12.0250053  10.96467297 12.01452421 10.00692625\n",
      " 10.04075517 10.93264272 11.03557213 10.96030611 10.94165635 11.95080207\n",
      " 12.03966895 10.04496835  9.0599382   8.95090561 10.0241263   7.97238984\n",
      "  8.97346557 10.01923354 10.03077259 11.00005673 10.02411106 11.05543246\n",
      " 10.03551393 10.93162763 11.93363916 11.93832039 11.96416146 11.02333849\n",
      " 11.01874773 11.02716453  9.97765681  8.98119175  9.9984369   9.99144192\n",
      "  9.90633466 10.98838256 11.99845444 11.02250335]\n",
      "fitness score at this local optimum: -154.14413597218766\n"
     ]
    }
   ],
   "source": [
    "oes_history = test_solver(oes)"
   ]
  },
  {
   "cell_type": "code",
   "execution_count": 16,
   "metadata": {},
   "outputs": [],
   "source": [
    "# defines OpenAI's ES algorithm solver. Note that we needed to anneal the sigma parameter\n",
    "# this version turns on antithetic sampling. It doesn't really help, and sometimes hurts performance.\n",
    "oes_antithetic = OpenES(NPARAMS,            # number of model parameters\n",
    "                 sigma_init=0.5,            # initial standard deviation\n",
    "                 sigma_decay=0.999,         # don't anneal standard deviation\n",
    "                 learning_rate=0.1,         # learning rate for standard deviation\n",
    "                 learning_rate_decay=1.0,   # annealing the learning rate\n",
    "                 popsize=NPOPULATION+1,     # population size\n",
    "                 antithetic=True,           # whether to use antithetic sampling\n",
    "                 weight_decay=0.00,         # weight decay coefficient\n",
    "                 rank_fitness=False,        # use rank rather than fitness numbers\n",
    "                 forget_best=False)"
   ]
  },
  {
   "cell_type": "code",
   "execution_count": 17,
   "metadata": {},
   "outputs": [
    {
     "name": "stdout",
     "output_type": "stream",
     "text": [
      "fitness at iteration 100 -3251.0579946534485\n",
      "fitness at iteration 200 -879.7558649204608\n",
      "fitness at iteration 300 -826.8908936434227\n",
      "fitness at iteration 400 -826.8908936434227\n",
      "fitness at iteration 500 -786.928790067637\n",
      "fitness at iteration 600 -745.8327248649762\n",
      "fitness at iteration 700 -680.648865229072\n",
      "fitness at iteration 800 -636.8747515486568\n",
      "fitness at iteration 900 -574.9824990242186\n",
      "fitness at iteration 1000 -528.2511795890036\n",
      "fitness at iteration 1100 -463.88988050784576\n",
      "fitness at iteration 1200 -410.9460137508977\n",
      "fitness at iteration 1300 -350.4177971300892\n",
      "fitness at iteration 1400 -350.4177971300892\n",
      "fitness at iteration 1500 -327.367664711639\n",
      "fitness at iteration 1600 -302.7488155495705\n",
      "fitness at iteration 1700 -283.9839716709836\n",
      "fitness at iteration 1800 -257.56650216923254\n",
      "fitness at iteration 1900 -256.56732773418344\n",
      "fitness at iteration 2000 -256.3671671879149\n",
      "fitness at iteration 2100 -239.2284223471952\n",
      "fitness at iteration 2200 -235.13464121773427\n",
      "fitness at iteration 2300 -235.13464121773427\n",
      "fitness at iteration 2400 -235.13464121773427\n",
      "fitness at iteration 2500 -218.5539368227894\n",
      "fitness at iteration 2600 -218.5539368227894\n",
      "fitness at iteration 2700 -218.1972133015986\n",
      "fitness at iteration 2800 -218.1972133015986\n",
      "fitness at iteration 2900 -218.1972133015986\n",
      "fitness at iteration 3000 -218.1972133015986\n",
      "fitness at iteration 3100 -218.1972133015986\n",
      "fitness at iteration 3200 -218.1972133015986\n",
      "fitness at iteration 3300 -218.1972133015986\n",
      "fitness at iteration 3400 -211.0575997358411\n",
      "fitness at iteration 3500 -211.0575997358411\n",
      "fitness at iteration 3600 -211.0575997358411\n",
      "fitness at iteration 3700 -211.0575997358411\n",
      "fitness at iteration 3800 -211.0575997358411\n",
      "fitness at iteration 3900 -211.0575997358411\n",
      "fitness at iteration 4000 -211.0575997358411\n",
      "local optimum discovered by solver:\n",
      " [12.0247384   8.99490915 11.98506987 11.13477435  9.96663545 11.05881194\n",
      " 10.95439495 10.94318842 11.98882369 12.00379757  9.97539598 10.89905311\n",
      " 10.07709827 11.0403877  10.9402769  10.0449286  11.93433259 10.90473089\n",
      " 10.989733   11.04615049 11.03592425 11.12216812 10.91686399  9.10175589\n",
      " 11.01346675  9.01632692 11.01728122 10.94165419  9.93762759 10.93297671\n",
      " 12.03470926 11.00139728 10.96264888 10.99904021 12.00243146 10.89973132\n",
      " 11.98158174  9.17981865  9.87209152 10.91866693 11.08983639  9.91020665\n",
      " 10.07987285 10.99673449  9.9427015  10.89741849  9.01751526 10.00562821\n",
      " 11.08085517 12.0332915  10.99237879 11.04988467 10.03322652 10.07610206\n",
      " 10.0551997  12.04880266  9.93869152 11.95386988 10.01047996 11.01564447\n",
      " 10.9237869  10.05791869 11.02250176  8.95777389  9.97812046 11.03264867\n",
      " 10.18210936  9.91872742 10.00946687  9.95565158 10.86370944 12.02990812\n",
      "  9.79791123 10.8937313  11.0106534  10.99939851 10.02838527  9.97766717\n",
      "  9.96762403 11.80389387 10.03357875 10.05345335 11.11195041 12.05830202\n",
      " 11.04245377 11.07772602 10.09670528  9.95211171  9.98968366 12.10925163\n",
      " 11.03029649  9.90837909  8.91811912 11.03728592 11.06589276 10.99148759\n",
      "  9.07298412 11.01437699 10.14996701  9.87921307]\n",
      "fitness score at this local optimum: -211.0575997358411\n"
     ]
    }
   ],
   "source": [
    "oes_antithetic_history = test_solver(oes_antithetic)"
   ]
  },
  {
   "cell_type": "code",
   "execution_count": 21,
   "metadata": {},
   "outputs": [
    {
     "data": {
      "image/png": "[encoded data removed]",
      "text/plain": [
       "<Figure size 2400x1200 with 1 Axes>"
      ]
     },
     "metadata": {
      "needs_background": "light"
     },
     "output_type": "display_data"
    }
   ],
   "source": [
    "# Create a new figure of size 8x6 points, using 100 dots per inch\n",
    "best_history = [0] * MAX_ITERATION\n",
    "plt.figure(figsize=(16,8), dpi=150)\n",
    "\n",
    "optimum_line, = plt.plot(best_history, color=\"black\", linewidth=0.5, linestyle=\"-.\", label='Global Optimum')\n",
    "ga_line, = plt.plot(ga_history, color=\"green\", linewidth=1.0, linestyle=\"-\", label='GA')\n",
    "oes_line, = plt.plot(oes_history, color=\"orange\", linewidth=1.0, linestyle=\"-\", label='OpenAI-ES')\n",
    "pepg_line, = plt.plot(pepg_history, color=\"blue\", linewidth=1.0, linestyle=\"-\", label='PEPG / NES')\n",
    "cma_line, = plt.plot(cma_history, color=\"red\", linewidth=1.0, linestyle=\"-\", label='CMA-ES')\n",
    "\n",
    "plt.legend(handles=[optimum_line, ga_line, cma_line, pepg_line, oes_line], loc=4)\n",
    "\n",
    "# Set x limits\n",
    "plt.xlim(0,2500)\n",
    "\n",
    "plt.xlabel('generation')\n",
    "plt.ylabel('fitness')\n",
    "\n",
    "# plt.savefig(\"./rastrigin_10d.svg\")\n",
    "\n",
    "plt.show()"
   ]
  }
 ],
 "metadata": {
  "kernelspec": {
   "display_name": "Python [conda env:ARC]",
   "language": "python",
   "name": "conda-env-ARC-py"
  },
  "language_info": {
   "codemirror_mode": {
    "name": "ipython",
    "version": 3
   },
   "file_extension": ".py",
   "mimetype": "text/x-python",
   "name": "python",
   "nbconvert_exporter": "python",
   "pygments_lexer": "ipython3",
   "version": "3.6.9"
  }
 },
 "nbformat": 4,
 "nbformat_minor": 2
}
